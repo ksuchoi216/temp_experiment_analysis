{
 "cells": [
  {
   "cell_type": "code",
   "execution_count": null,
   "metadata": {},
   "outputs": [],
   "source": [
    "import torch\n",
    "import numpy as np\n",
    "import pandas as pd\n",
    "import matplotlib.pyplot as plt\n",
    "\n",
    "import models\n",
    "\n",
    "plt.rcParams['figure.figsize']=[16,8]"
   ]
  },
  {
   "cell_type": "code",
   "execution_count": null,
   "metadata": {},
   "outputs": [],
   "source": [
    "def str2numpy(src):\n",
    "    # convert list of string to numpy array\n",
    "    return np.asarray([s.split() for s in src], dtype=int)\n",
    "\n",
    "def normalize(src, axis=0):\n",
    "    mean = src.mean(axis, keepdims=True)\n",
    "    std = src.std(axis, keepdims=True)\n",
    "    dst = (src - mean) / (std + 1e-9)\n",
    "    return dst"
   ]
  },
  {
   "cell_type": "code",
   "execution_count": null,
   "metadata": {},
   "outputs": [],
   "source": [
    "device = torch.device('cuda' if torch.cuda.is_available() else 'cpu')\n",
    "net = models.Classifier()\n",
    "net = net.to(device)\n",
    "net.load_state_dict(torch.load('logs/model.pth'))"
   ]
  },
  {
   "cell_type": "code",
   "execution_count": null,
   "metadata": {},
   "outputs": [],
   "source": [
    "df = pd.read_csv('../signal_process/sample/fsr.csv')\n",
    "data = str2numpy(df['sensor'])"
   ]
  },
  {
   "cell_type": "code",
   "execution_count": null,
   "metadata": {},
   "outputs": [],
   "source": [
    "i0 = 5000\n",
    "size = 1024\n",
    "s = normalize(data[i0:i0+size])\n",
    "plt.plot(s.sum(1))"
   ]
  },
  {
   "cell_type": "code",
   "execution_count": null,
   "metadata": {},
   "outputs": [],
   "source": [
    "st = torch.FloatTensor(s.T).unsqueeze(1)\n",
    "with torch.no_grad():\n",
    "    out = net(st)\n",
    "    reliability = out.squeeze().numpy()\n",
    "reliability_mean = reliability.mean(1)\n",
    "\n",
    "plt.figure(figsize=(16, 24))\n",
    "for i in range(32):\n",
    "    plt.subplot(16, 4, i+1)\n",
    "    plt.plot(s[:, i])\n",
    "    plt.title('%f' % reliability_mean[i])"
   ]
  }
 ],
 "metadata": {
  "interpreter": {
   "hash": "f4bcafcc7018446f2714e8dec1ceff88d4a06bda4954e1d8f7380df097e20bad"
  },
  "kernelspec": {
   "display_name": "Python 3.9.12 64-bit ('q': conda)",
   "name": "python3"
  },
  "language_info": {
   "codemirror_mode": {
    "name": "ipython",
    "version": 3
   },
   "file_extension": ".py",
   "mimetype": "text/x-python",
   "name": "python",
   "nbconvert_exporter": "python",
   "pygments_lexer": "ipython3",
   "version": "3.9.12"
  },
  "orig_nbformat": 4
 },
 "nbformat": 4,
 "nbformat_minor": 2
}
