{
 "cells": [
  {
   "cell_type": "code",
   "execution_count": null,
   "metadata": {},
   "outputs": [],
   "source": [
    "import os\n",
    "import numpy as np\n",
    "import pandas as pd\n",
    "import matplotlib.pyplot as plt\n",
    "from scipy import signal, interpolate\n",
    "\n",
    "import utils\n",
    "import signalgo\n",
    "\n",
    "plt.rcParams['figure.figsize'] = [10, 2.5]"
   ]
  },
  {
   "cell_type": "code",
   "execution_count": null,
   "metadata": {},
   "outputs": [],
   "source": [
    "fs = 256  # sampling frequency\n",
    "df = utils.get_ppgbcg('./sample/ppgbcg.csv')"
   ]
  },
  {
   "cell_type": "code",
   "execution_count": null,
   "metadata": {},
   "outputs": [],
   "source": [
    "# Raw Data\n",
    "sig0 = -df['CH3'].to_numpy()\n",
    "plt.plot(sig0)"
   ]
  },
  {
   "cell_type": "code",
   "execution_count": null,
   "metadata": {},
   "outputs": [],
   "source": [
    "# Mean Subtraction\n",
    "sig1 = sig0 - sig0.mean()\n",
    "t = np.arange(len(sig1)) / fs\n",
    "plt.plot(t, sig1, label='sig1')\n",
    "plt.ylim([-1500, 1500])\n",
    "plt.xlabel('Time (s)')\n",
    "plt.legend()"
   ]
  },
  {
   "cell_type": "code",
   "execution_count": null,
   "metadata": {},
   "outputs": [],
   "source": [
    "# Median Filtering\n",
    "sig2 = signal.medfilt(sig1, kernel_size=3)\n",
    "t = np.arange(len(sig2)) / fs\n",
    "plt.plot(t, sig2, label='sig2')\n",
    "plt.ylim([-1500, 1500])\n",
    "plt.xlabel('Time (s)')\n",
    "plt.legend()"
   ]
  },
  {
   "cell_type": "code",
   "execution_count": null,
   "metadata": {},
   "outputs": [],
   "source": [
    "# Band Pass Filtering\n",
    "filt = signal.firwin(numtaps=1024, cutoff=[1, 5], pass_zero='bandpass', fs=256)\n",
    "sig3 = signal.convolve(sig2, filt, mode='same')\n",
    "t = np.arange(len(sig3)) / fs\n",
    "plt.plot(t, sig2, label='sig2')\n",
    "plt.plot(t, sig3, label='sig3')\n",
    "plt.ylim([-1000, 1000])\n",
    "plt.xlabel('Time (s)')\n",
    "plt.legend()"
   ]
  },
  {
   "cell_type": "code",
   "execution_count": null,
   "metadata": {},
   "outputs": [],
   "source": [
    "# FFT Results\n",
    "freq, value = signalgo.fft(sig2, fs, [0.1, 10])\n",
    "plt.plot(freq, value, label='sig2')\n",
    "plt.xlabel('Frequency (Hz)')\n",
    "\n",
    "freq, value = signalgo.fft(sig3, fs, [0.1, 10])\n",
    "plt.plot(freq, value, label='sig3')\n",
    "plt.xlabel('Frequency (Hz)')\n",
    "\n",
    "plt.legend()"
   ]
  },
  {
   "cell_type": "code",
   "execution_count": null,
   "metadata": {},
   "outputs": [],
   "source": [
    "# BPF Visualization\n",
    "filt_pad = np.concatenate([np.zeros(10000), filt, np.zeros(10000)])\n",
    "freq, value = signalgo.fft(filt_pad, fs, [0, 10])\n",
    "t = (np.arange(len(filt)) - len(filt) / 2) / fs\n",
    "plt.subplot(1, 2, 1)\n",
    "plt.plot(t, filt, label='filt')\n",
    "plt.xlabel('Time (s)')\n",
    "plt.legend()\n",
    "plt.subplot(1, 2, 2)\n",
    "plt.plot(freq, value, label='filt')\n",
    "plt.xlabel('Frequency (Hz)')\n",
    "plt.legend()"
   ]
  },
  {
   "cell_type": "code",
   "execution_count": null,
   "metadata": {},
   "outputs": [],
   "source": [
    "# Signal Normalization\n",
    "sig4 = signalgo.normalize(sig3)\n",
    "\n",
    "t = np.arange(len(sig4)) / fs\n",
    "plt.plot(t, sig4, label='sig3')\n",
    "plt.xlabel('Time (s)')\n",
    "plt.legend()"
   ]
  },
  {
   "cell_type": "code",
   "execution_count": null,
   "metadata": {},
   "outputs": [],
   "source": [
    "# Find Peaks\n",
    "peaks, _ = signal.find_peaks(sig4, prominence=1)\n",
    "t = np.arange(len(sig4)) / fs\n",
    "plt.plot(t, sig4, label='sig4')\n",
    "plt.plot(t[peaks], sig4[peaks], 'o', label='peaks')\n",
    "plt.ylim([-3, 3])\n",
    "plt.xlabel('Time (s)')\n",
    "plt.legend()"
   ]
  },
  {
   "cell_type": "code",
   "execution_count": null,
   "metadata": {},
   "outputs": [],
   "source": [
    "freq, value = signalgo.fft(sig4, sampling_frequency=fs, frequency_range=[0, 2.5])\n",
    "freq = freq * 60\n",
    "value = value / len(sig4)\n",
    "i_max = np.argmax(value)\n",
    "f_max = freq[i_max]\n",
    "plt.plot(freq, value, label='Spectrum')\n",
    "plt.plot(f_max, value[i_max], 'o', label='Max Frequency = 90 bpm')\n",
    "plt.xlabel('Frequency (bpm)')\n",
    "plt.grid()\n",
    "plt.legend()"
   ]
  },
  {
   "cell_type": "code",
   "execution_count": null,
   "metadata": {},
   "outputs": [],
   "source": [
    "# Peak-to-Peak Interval Interpolation\n",
    "peak_time = peaks / 256\n",
    "t = peak_time[1:]\n",
    "d = peak_time[1:] - peak_time[:-1]\n",
    "t_interp = np.linspace(t.min(), t.max(), 1000)\n",
    "s_interp = interpolate.interp1d(t, d, kind='cubic')(t_interp)\n",
    "\n",
    "print(len(d))\n",
    "plt.plot(t, d)\n",
    "plt.plot(t_interp, s_interp)\n",
    "plt.xlabel('Time (s)')\n",
    "plt.ylabel('Interavl (s)')"
   ]
  },
  {
   "cell_type": "code",
   "execution_count": null,
   "metadata": {},
   "outputs": [],
   "source": [
    "# HRV calculation\n",
    "s_fft = np.fft.fft(s_interp - s_interp.mean())\n",
    "s_freq = np.fft.fftfreq(len(s_interp), d=t_interp[1] - t_interp[0])\n",
    "\n",
    "f_sample = 1 / (t_interp[1] - t_interp[0])\n",
    "s_psd = (1/(f_sample*len(s_interp))) * abs(s_fft) ** 2\n",
    "\n",
    "f_step = s_freq[1]\n",
    "r_vlf = (np.array([0.0033, 0.04]) / f_step + 0.5).astype(int)\n",
    "r_hf = (np.array([0.15, 0.4]) / f_step + 0.5).astype(int)\n",
    "r_lf = (np.array([0.04, 0.15]) / f_step + 0.5).astype(int)\n",
    "\n",
    "range_vlf = range(r_vlf[0], r_vlf[1]+1)\n",
    "range_hf = range(r_hf[0], r_hf[1]+1)\n",
    "range_lf = range(r_lf[0], r_lf[1]+1)\n",
    "\n",
    "VLF_power = s_psd[range_vlf].sum() * f_step * 1000000\n",
    "LF_power = s_psd[range_lf].sum() * f_step * 1000000\n",
    "HF_power = s_psd[range_hf].sum() * f_step * 1000000\n",
    "LF_HF = LF_power / HF_power\n",
    "\n",
    "LF_peak = s_freq[range_lf][np.argmax(s_psd[range_lf])]\n",
    "HF_peak = s_freq[range_hf][np.argmax(s_psd[range_hf])]\n",
    "\n",
    "SDNN = d.std()\n",
    "\n",
    "plt.plot(s_freq[range_vlf], s_psd[range_vlf], label='VLF')\n",
    "plt.plot(s_freq[range_hf], s_psd[range_hf], label='HF')\n",
    "plt.plot(s_freq[range_lf], s_psd[range_lf], label='LF')\n",
    "plt.xlim([0, 0.4])\n",
    "plt.xlabel('Frequency (Hz)')\n",
    "plt.ylabel('PSD (sec^2 / Hz)')\n",
    "plt.legend()\n",
    "\n",
    "print('HRV')\n",
    "print()\n",
    "#print('SDNN      : %.3f ms' % SDNN)\n",
    "print('VLF power : %8.3f ms^2' % VLF_power)\n",
    "print('LF power  : %8.3f ms^2' % LF_power)\n",
    "print('HF power  : %8.3f ms^2' % HF_power)\n",
    "print('LF peak   : %8.3f Hz' % LF_peak)\n",
    "print('HF peak   : %8.3f Hz' % HF_peak)\n",
    "print('LF/HF     : %8.3f' % LF_HF)\n",
    "\n",
    "print()\n"
   ]
  }
 ],
 "metadata": {
  "interpreter": {
   "hash": "f4bcafcc7018446f2714e8dec1ceff88d4a06bda4954e1d8f7380df097e20bad"
  },
  "kernelspec": {
   "display_name": "Python 3 (ipykernel)",
   "language": "python",
   "name": "python3"
  },
  "language_info": {
   "codemirror_mode": {
    "name": "ipython",
    "version": 3
   },
   "file_extension": ".py",
   "mimetype": "text/x-python",
   "name": "python",
   "nbconvert_exporter": "python",
   "pygments_lexer": "ipython3",
   "version": "3.9.13"
  }
 },
 "nbformat": 4,
 "nbformat_minor": 2
}
