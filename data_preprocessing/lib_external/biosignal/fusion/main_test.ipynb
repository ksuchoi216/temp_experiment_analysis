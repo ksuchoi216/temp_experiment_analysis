{
 "cells": [
  {
   "cell_type": "code",
   "execution_count": null,
   "metadata": {},
   "outputs": [],
   "source": [
    "import torch\n",
    "import numpy as np\n",
    "import matplotlib.pyplot as plt\n",
    "from tqdm import tqdm\n",
    "\n",
    "import train\n",
    "import models\n",
    "\n",
    "plt.rcParams['figure.figsize']=[16,8]"
   ]
  },
  {
   "cell_type": "code",
   "execution_count": null,
   "metadata": {},
   "outputs": [],
   "source": [
    "# Load Test Dataset\n",
    "dataset = train.Dataset('./data/test.npy')\n",
    "\n",
    "# Load Signal Reconstruction Model\n",
    "net_sr = models.get_signal_reconstruction_model()\n",
    "net_sr.load_state_dict(torch.load('logs/model_sr.pth'))\n",
    "net_sr = net_sr.eval()\n",
    "\n",
    "# Load Frequency Estimation Model\n",
    "net_fe = models.get_frequency_estimation_model()\n",
    "net_fe.load_state_dict(torch.load('logs/model_fe.pth'))\n",
    "net_fe = net_fe.eval()"
   ]
  },
  {
   "cell_type": "code",
   "execution_count": null,
   "metadata": {},
   "outputs": [],
   "source": [
    "idx = np.random.randint(len(dataset))\n",
    "#idx = 777\n",
    "print('Data Index : ', idx)\n",
    "x, f, s = dataset[idx]\n",
    "\n",
    "# Numpy Array to Torch Tensor\n",
    "xt = torch.FloatTensor([x])\n",
    "ft = torch.FloatTensor([f])\n",
    "st = torch.FloatTensor([s])\n",
    "\n",
    "with torch.no_grad():\n",
    "    # Signal Reconstruction Model Inference\n",
    "    s_pred = net_sr(xt)\n",
    "    s_pred = s_pred.squeeze().numpy()\n",
    "    # Frequency Estimation Model Inference\n",
    "    f_pred = net_fe(xt)\n",
    "    f_pred = f_pred.squeeze().numpy()\n",
    "\n",
    "mae = np.mean(np.abs(f_pred - f))\n",
    "print('Mean Absolute Error (bpm) = %.4f'% (mae * 60))\n",
    "\n",
    "plt.figure(0)\n",
    "for i in range(16):\n",
    "    plt.subplot(4, 4, i+1)\n",
    "    plt.plot(x[i])\n",
    "plt.figure(1)\n",
    "plt.plot(s, label='Original Signal')\n",
    "plt.plot(s_pred, label='Reconstructed Signal')\n",
    "plt.legend()"
   ]
  },
  {
   "cell_type": "code",
   "execution_count": null,
   "metadata": {},
   "outputs": [],
   "source": [
    "results_sr = []\n",
    "results_fe = []\n",
    "div = 100\n",
    "for i in tqdm(range(0, len(dataset), div)):\n",
    "    x, f, s = dataset[i:i+div]\n",
    "    \n",
    "    xt = torch.from_numpy(x)\n",
    "    ft = torch.from_numpy(f)\n",
    "    st = torch.from_numpy(s)\n",
    "    \n",
    "    with torch.no_grad():\n",
    "        # Signal Reconstruction Model Inference\n",
    "        s_pred = net_sr(xt)\n",
    "        s_pred = s_pred.squeeze().numpy()\n",
    "        # Frequency Estimation Model Inference\n",
    "        f_pred = net_fe(xt)\n",
    "        f_pred = f_pred.squeeze().numpy()\n",
    "        \n",
    "        mse_sr = np.mean(np.square(s_pred - s))\n",
    "        mae_fe = np.mean(np.abs(f_pred - f.reshape(-1, 1)))\n",
    "        \n",
    "        results_sr.append(mse_sr)\n",
    "        results_fe.append(mae_fe)\n",
    "\n",
    "plt.figure(figsize=(16, 6))\n",
    "plt.subplot(1, 2, 1)\n",
    "plt.plot(results_sr)\n",
    "plt.title('Signal Reconstruction')\n",
    "plt.xlabel('Noise Level')\n",
    "plt.ylabel('Error (MSE)')\n",
    "plt.grid()\n",
    "plt.subplot(1, 2, 2)\n",
    "plt.plot(results_fe)\n",
    "plt.title('Frequency Estimation')\n",
    "plt.xlabel('Noise Level')\n",
    "plt.ylabel('Error (MAE)')\n",
    "plt.grid()"
   ]
  }
 ],
 "metadata": {
  "interpreter": {
   "hash": "f4bcafcc7018446f2714e8dec1ceff88d4a06bda4954e1d8f7380df097e20bad"
  },
  "kernelspec": {
   "display_name": "Python 3.9.12 64-bit ('q': conda)",
   "name": "python3"
  },
  "language_info": {
   "codemirror_mode": {
    "name": "ipython",
    "version": 3
   },
   "file_extension": ".py",
   "mimetype": "text/x-python",
   "name": "python",
   "nbconvert_exporter": "python",
   "pygments_lexer": "ipython3",
   "version": "3.9.12"
  },
  "orig_nbformat": 4
 },
 "nbformat": 4,
 "nbformat_minor": 2
}
